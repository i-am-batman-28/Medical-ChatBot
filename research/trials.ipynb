{
 "cells": [
  {
   "cell_type": "code",
   "execution_count": 23,
   "id": "bcea86143e913672",
   "metadata": {},
   "outputs": [],
   "source": [
    "import os\n",
    "os.chdir('../')\n"
   ]
  },
  {
   "cell_type": "code",
   "execution_count": 24,
   "id": "e99abb21-2a46-466f-97f9-82ae957a9f8b",
   "metadata": {},
   "outputs": [
    {
     "data": {
      "text/plain": [
       "'/Users/karthiksarma/Desktop/med_bot/Medical-ChatBot'"
      ]
     },
     "execution_count": 24,
     "metadata": {},
     "output_type": "execute_result"
    }
   ],
   "source": [
    "%pwd"
   ]
  },
  {
   "cell_type": "code",
   "execution_count": 18,
   "id": "4888f6d4",
   "metadata": {},
   "outputs": [
    {
     "name": "stdout",
     "output_type": "stream",
     "text": [
      "Collecting langchain-community\n",
      "  Using cached langchain_community-0.3.25-py3-none-any.whl.metadata (2.9 kB)\n",
      "Requirement already satisfied: langchain-core<1.0.0,>=0.3.65 in /Users/karthiksarma/Desktop/med_bot/.venv/lib/python3.10/site-packages (from langchain-community) (0.3.65)\n",
      "Requirement already satisfied: langchain<1.0.0,>=0.3.25 in /Users/karthiksarma/Desktop/med_bot/.venv/lib/python3.10/site-packages (from langchain-community) (0.3.25)\n",
      "Requirement already satisfied: SQLAlchemy<3,>=1.4 in /Users/karthiksarma/Desktop/med_bot/.venv/lib/python3.10/site-packages (from langchain-community) (2.0.41)\n",
      "Requirement already satisfied: requests<3,>=2 in /Users/karthiksarma/Desktop/med_bot/.venv/lib/python3.10/site-packages (from langchain-community) (2.32.4)\n",
      "Requirement already satisfied: PyYAML>=5.3 in /Users/karthiksarma/Desktop/med_bot/.venv/lib/python3.10/site-packages (from langchain-community) (6.0.2)\n",
      "Collecting aiohttp<4.0.0,>=3.8.3 (from langchain-community)\n",
      "  Using cached aiohttp-3.12.13-cp310-cp310-macosx_11_0_arm64.whl.metadata (7.6 kB)\n",
      "Requirement already satisfied: tenacity!=8.4.0,<10,>=8.1.0 in /Users/karthiksarma/Desktop/med_bot/.venv/lib/python3.10/site-packages (from langchain-community) (9.1.2)\n",
      "Collecting dataclasses-json<0.7,>=0.5.7 (from langchain-community)\n",
      "  Using cached dataclasses_json-0.6.7-py3-none-any.whl.metadata (25 kB)\n",
      "Collecting pydantic-settings<3.0.0,>=2.4.0 (from langchain-community)\n",
      "  Using cached pydantic_settings-2.9.1-py3-none-any.whl.metadata (3.8 kB)\n",
      "Requirement already satisfied: langsmith<0.4,>=0.1.125 in /Users/karthiksarma/Desktop/med_bot/.venv/lib/python3.10/site-packages (from langchain-community) (0.3.45)\n",
      "Collecting httpx-sse<1.0.0,>=0.4.0 (from langchain-community)\n",
      "  Using cached httpx_sse-0.4.0-py3-none-any.whl.metadata (9.0 kB)\n",
      "Collecting numpy>=1.26.2 (from langchain-community)\n",
      "  Using cached numpy-2.2.6-cp310-cp310-macosx_14_0_arm64.whl.metadata (62 kB)\n",
      "Collecting aiohappyeyeballs>=2.5.0 (from aiohttp<4.0.0,>=3.8.3->langchain-community)\n",
      "  Using cached aiohappyeyeballs-2.6.1-py3-none-any.whl.metadata (5.9 kB)\n",
      "Collecting aiosignal>=1.1.2 (from aiohttp<4.0.0,>=3.8.3->langchain-community)\n",
      "  Using cached aiosignal-1.3.2-py2.py3-none-any.whl.metadata (3.8 kB)\n",
      "Requirement already satisfied: async-timeout<6.0,>=4.0 in /Users/karthiksarma/Desktop/med_bot/.venv/lib/python3.10/site-packages (from aiohttp<4.0.0,>=3.8.3->langchain-community) (4.0.3)\n",
      "Collecting attrs>=17.3.0 (from aiohttp<4.0.0,>=3.8.3->langchain-community)\n",
      "  Using cached attrs-25.3.0-py3-none-any.whl.metadata (10 kB)\n",
      "Collecting frozenlist>=1.1.1 (from aiohttp<4.0.0,>=3.8.3->langchain-community)\n",
      "  Using cached frozenlist-1.7.0-cp310-cp310-macosx_11_0_arm64.whl.metadata (18 kB)\n",
      "Collecting multidict<7.0,>=4.5 (from aiohttp<4.0.0,>=3.8.3->langchain-community)\n",
      "  Using cached multidict-6.4.4-cp310-cp310-macosx_11_0_arm64.whl.metadata (5.3 kB)\n",
      "Collecting propcache>=0.2.0 (from aiohttp<4.0.0,>=3.8.3->langchain-community)\n",
      "  Using cached propcache-0.3.2-cp310-cp310-macosx_11_0_arm64.whl.metadata (12 kB)\n",
      "Collecting yarl<2.0,>=1.17.0 (from aiohttp<4.0.0,>=3.8.3->langchain-community)\n",
      "  Using cached yarl-1.20.1-cp310-cp310-macosx_11_0_arm64.whl.metadata (73 kB)\n",
      "Collecting marshmallow<4.0.0,>=3.18.0 (from dataclasses-json<0.7,>=0.5.7->langchain-community)\n",
      "  Using cached marshmallow-3.26.1-py3-none-any.whl.metadata (7.3 kB)\n",
      "Collecting typing-inspect<1,>=0.4.0 (from dataclasses-json<0.7,>=0.5.7->langchain-community)\n",
      "  Using cached typing_inspect-0.9.0-py3-none-any.whl.metadata (1.5 kB)\n",
      "Requirement already satisfied: langchain-text-splitters<1.0.0,>=0.3.8 in /Users/karthiksarma/Desktop/med_bot/.venv/lib/python3.10/site-packages (from langchain<1.0.0,>=0.3.25->langchain-community) (0.3.8)\n",
      "Requirement already satisfied: pydantic<3.0.0,>=2.7.4 in /Users/karthiksarma/Desktop/med_bot/.venv/lib/python3.10/site-packages (from langchain<1.0.0,>=0.3.25->langchain-community) (2.11.7)\n",
      "Requirement already satisfied: jsonpatch<2.0,>=1.33 in /Users/karthiksarma/Desktop/med_bot/.venv/lib/python3.10/site-packages (from langchain-core<1.0.0,>=0.3.65->langchain-community) (1.33)\n",
      "Requirement already satisfied: packaging<25,>=23.2 in /Users/karthiksarma/Desktop/med_bot/.venv/lib/python3.10/site-packages (from langchain-core<1.0.0,>=0.3.65->langchain-community) (24.2)\n",
      "Requirement already satisfied: typing-extensions>=4.7 in /Users/karthiksarma/Desktop/med_bot/.venv/lib/python3.10/site-packages (from langchain-core<1.0.0,>=0.3.65->langchain-community) (4.14.0)\n",
      "Requirement already satisfied: jsonpointer>=1.9 in /Users/karthiksarma/Desktop/med_bot/.venv/lib/python3.10/site-packages (from jsonpatch<2.0,>=1.33->langchain-core<1.0.0,>=0.3.65->langchain-community) (3.0.0)\n",
      "Requirement already satisfied: httpx<1,>=0.23.0 in /Users/karthiksarma/Desktop/med_bot/.venv/lib/python3.10/site-packages (from langsmith<0.4,>=0.1.125->langchain-community) (0.28.1)\n",
      "Requirement already satisfied: orjson<4.0.0,>=3.9.14 in /Users/karthiksarma/Desktop/med_bot/.venv/lib/python3.10/site-packages (from langsmith<0.4,>=0.1.125->langchain-community) (3.10.18)\n",
      "Requirement already satisfied: requests-toolbelt<2.0.0,>=1.0.0 in /Users/karthiksarma/Desktop/med_bot/.venv/lib/python3.10/site-packages (from langsmith<0.4,>=0.1.125->langchain-community) (1.0.0)\n",
      "Requirement already satisfied: zstandard<0.24.0,>=0.23.0 in /Users/karthiksarma/Desktop/med_bot/.venv/lib/python3.10/site-packages (from langsmith<0.4,>=0.1.125->langchain-community) (0.23.0)\n",
      "Requirement already satisfied: anyio in /Users/karthiksarma/Desktop/med_bot/.venv/lib/python3.10/site-packages (from httpx<1,>=0.23.0->langsmith<0.4,>=0.1.125->langchain-community) (4.9.0)\n",
      "Requirement already satisfied: certifi in /Users/karthiksarma/Desktop/med_bot/.venv/lib/python3.10/site-packages (from httpx<1,>=0.23.0->langsmith<0.4,>=0.1.125->langchain-community) (2025.6.15)\n",
      "Requirement already satisfied: httpcore==1.* in /Users/karthiksarma/Desktop/med_bot/.venv/lib/python3.10/site-packages (from httpx<1,>=0.23.0->langsmith<0.4,>=0.1.125->langchain-community) (1.0.9)\n",
      "Requirement already satisfied: idna in /Users/karthiksarma/Desktop/med_bot/.venv/lib/python3.10/site-packages (from httpx<1,>=0.23.0->langsmith<0.4,>=0.1.125->langchain-community) (3.10)\n",
      "Requirement already satisfied: h11>=0.16 in /Users/karthiksarma/Desktop/med_bot/.venv/lib/python3.10/site-packages (from httpcore==1.*->httpx<1,>=0.23.0->langsmith<0.4,>=0.1.125->langchain-community) (0.16.0)\n",
      "Requirement already satisfied: annotated-types>=0.6.0 in /Users/karthiksarma/Desktop/med_bot/.venv/lib/python3.10/site-packages (from pydantic<3.0.0,>=2.7.4->langchain<1.0.0,>=0.3.25->langchain-community) (0.7.0)\n",
      "Requirement already satisfied: pydantic-core==2.33.2 in /Users/karthiksarma/Desktop/med_bot/.venv/lib/python3.10/site-packages (from pydantic<3.0.0,>=2.7.4->langchain<1.0.0,>=0.3.25->langchain-community) (2.33.2)\n",
      "Requirement already satisfied: typing-inspection>=0.4.0 in /Users/karthiksarma/Desktop/med_bot/.venv/lib/python3.10/site-packages (from pydantic<3.0.0,>=2.7.4->langchain<1.0.0,>=0.3.25->langchain-community) (0.4.1)\n",
      "Collecting python-dotenv>=0.21.0 (from pydantic-settings<3.0.0,>=2.4.0->langchain-community)\n",
      "  Using cached python_dotenv-1.1.0-py3-none-any.whl.metadata (24 kB)\n",
      "Requirement already satisfied: charset_normalizer<4,>=2 in /Users/karthiksarma/Desktop/med_bot/.venv/lib/python3.10/site-packages (from requests<3,>=2->langchain-community) (3.4.2)\n",
      "Requirement already satisfied: urllib3<3,>=1.21.1 in /Users/karthiksarma/Desktop/med_bot/.venv/lib/python3.10/site-packages (from requests<3,>=2->langchain-community) (2.4.0)\n",
      "Collecting mypy-extensions>=0.3.0 (from typing-inspect<1,>=0.4.0->dataclasses-json<0.7,>=0.5.7->langchain-community)\n",
      "  Using cached mypy_extensions-1.1.0-py3-none-any.whl.metadata (1.1 kB)\n",
      "Requirement already satisfied: exceptiongroup>=1.0.2 in /Users/karthiksarma/Desktop/med_bot/.venv/lib/python3.10/site-packages (from anyio->httpx<1,>=0.23.0->langsmith<0.4,>=0.1.125->langchain-community) (1.3.0)\n",
      "Requirement already satisfied: sniffio>=1.1 in /Users/karthiksarma/Desktop/med_bot/.venv/lib/python3.10/site-packages (from anyio->httpx<1,>=0.23.0->langsmith<0.4,>=0.1.125->langchain-community) (1.3.1)\n",
      "Using cached langchain_community-0.3.25-py3-none-any.whl (2.5 MB)\n",
      "Using cached aiohttp-3.12.13-cp310-cp310-macosx_11_0_arm64.whl (466 kB)\n",
      "Using cached dataclasses_json-0.6.7-py3-none-any.whl (28 kB)\n",
      "Using cached httpx_sse-0.4.0-py3-none-any.whl (7.8 kB)\n",
      "Using cached marshmallow-3.26.1-py3-none-any.whl (50 kB)\n",
      "Using cached multidict-6.4.4-cp310-cp310-macosx_11_0_arm64.whl (38 kB)\n",
      "Using cached pydantic_settings-2.9.1-py3-none-any.whl (44 kB)\n",
      "Using cached typing_inspect-0.9.0-py3-none-any.whl (8.8 kB)\n",
      "Using cached yarl-1.20.1-cp310-cp310-macosx_11_0_arm64.whl (89 kB)\n",
      "Using cached aiohappyeyeballs-2.6.1-py3-none-any.whl (15 kB)\n",
      "Using cached aiosignal-1.3.2-py2.py3-none-any.whl (7.6 kB)\n",
      "Using cached attrs-25.3.0-py3-none-any.whl (63 kB)\n",
      "Using cached frozenlist-1.7.0-cp310-cp310-macosx_11_0_arm64.whl (46 kB)\n",
      "Using cached mypy_extensions-1.1.0-py3-none-any.whl (5.0 kB)\n",
      "Using cached numpy-2.2.6-cp310-cp310-macosx_14_0_arm64.whl (5.3 MB)\n",
      "Using cached propcache-0.3.2-cp310-cp310-macosx_11_0_arm64.whl (43 kB)\n",
      "Using cached python_dotenv-1.1.0-py3-none-any.whl (20 kB)\n",
      "Installing collected packages: python-dotenv, propcache, numpy, mypy-extensions, multidict, marshmallow, httpx-sse, frozenlist, attrs, aiohappyeyeballs, yarl, typing-inspect, aiosignal, pydantic-settings, dataclasses-json, aiohttp, langchain-community\n",
      "\u001b[2K   \u001b[90m━━━━━━━━━━━━━━━━━━━━━━━━━━━━━━━━━━━━━━━━\u001b[0m \u001b[32m17/17\u001b[0m [langchain-community]ngchain-community]\n",
      "\u001b[1A\u001b[2KSuccessfully installed aiohappyeyeballs-2.6.1 aiohttp-3.12.13 aiosignal-1.3.2 attrs-25.3.0 dataclasses-json-0.6.7 frozenlist-1.7.0 httpx-sse-0.4.0 langchain-community-0.3.25 marshmallow-3.26.1 multidict-6.4.4 mypy-extensions-1.1.0 numpy-2.2.6 propcache-0.3.2 pydantic-settings-2.9.1 python-dotenv-1.1.0 typing-inspect-0.9.0 yarl-1.20.1\n",
      "Note: you may need to restart the kernel to use updated packages.\n"
     ]
    }
   ],
   "source": [
    "pip install langchain-community\n"
   ]
  },
  {
   "cell_type": "code",
   "execution_count": 25,
   "id": "fa365a2e-c369-4cc1-8338-6d6a0b8c83d4",
   "metadata": {},
   "outputs": [],
   "source": [
    "from langchain.document_loaders import PyPDFLoader, DirectoryLoader\n",
    "from langchain.text_splitter import RecursiveCharacterTextSplitter\n",
    "\n"
   ]
  },
  {
   "cell_type": "code",
   "execution_count": 26,
   "id": "9cc49695-cb49-4413-b8f5-d60d4c8c6ab2",
   "metadata": {},
   "outputs": [],
   "source": [
    "def load_pdf_file(data):\n",
    "    loader= DirectoryLoader(\n",
    "        data, glob= '*.pdf', loader_cls= PyPDFLoader)\n",
    "    doc= loader.load()\n",
    "    return doc\n",
    "    \n"
   ]
  },
  {
   "cell_type": "code",
   "execution_count": 30,
   "id": "0e3edf27",
   "metadata": {},
   "outputs": [
    {
     "name": "stdout",
     "output_type": "stream",
     "text": [
      "Obtaining file:///Users/karthiksarma/Desktop/med_bot/Medical-ChatBot (from -r g.txt (line 11))\n",
      "  Installing build dependencies ... \u001b[?25ldone\n",
      "\u001b[?25h  Checking if build backend supports build_editable ... \u001b[?25ldone\n",
      "\u001b[?25h  Getting requirements to build editable ... \u001b[?25ldone\n",
      "\u001b[?25h  Preparing editable metadata (pyproject.toml) ... \u001b[?25ldone\n",
      "\u001b[?25hCollecting sentence-transformers (from -r g.txt (line 1))\n",
      "  Using cached sentence_transformers-4.1.0-py3-none-any.whl.metadata (13 kB)\n",
      "Requirement already satisfied: langchain in /Users/karthiksarma/Desktop/med_bot/.venv/lib/python3.10/site-packages (from -r g.txt (line 2)) (0.3.25)\n",
      "Collecting flask (from -r g.txt (line 3))\n",
      "  Using cached flask-3.1.1-py3-none-any.whl.metadata (3.0 kB)\n",
      "Collecting pypdf (from -r g.txt (line 4))\n",
      "  Using cached pypdf-5.6.0-py3-none-any.whl.metadata (7.2 kB)\n",
      "Requirement already satisfied: python-dotenv in /Users/karthiksarma/Desktop/med_bot/.venv/lib/python3.10/site-packages (from -r g.txt (line 5)) (1.1.0)\n",
      "Collecting langchain-pinecone (from -r g.txt (line 7))\n",
      "  Using cached langchain_pinecone-0.2.8-py3-none-any.whl.metadata (5.3 kB)\n",
      "Requirement already satisfied: langchain_community in /Users/karthiksarma/Desktop/med_bot/.venv/lib/python3.10/site-packages (from -r g.txt (line 8)) (0.3.25)\n",
      "Collecting langchain_openai (from -r g.txt (line 9))\n",
      "  Using cached langchain_openai-0.3.23-py3-none-any.whl.metadata (2.3 kB)\n",
      "Collecting langchain_experimental (from -r g.txt (line 10))\n",
      "  Using cached langchain_experimental-0.3.4-py3-none-any.whl.metadata (1.7 kB)\n",
      "Collecting pinecone-client[grpc] (from -r g.txt (line 6))\n",
      "  Using cached pinecone_client-6.0.0-py3-none-any.whl.metadata (3.4 kB)\n",
      "Collecting transformers<5.0.0,>=4.41.0 (from sentence-transformers->-r g.txt (line 1))\n",
      "  Using cached transformers-4.52.4-py3-none-any.whl.metadata (38 kB)\n",
      "Collecting tqdm (from sentence-transformers->-r g.txt (line 1))\n",
      "  Using cached tqdm-4.67.1-py3-none-any.whl.metadata (57 kB)\n",
      "Collecting torch>=1.11.0 (from sentence-transformers->-r g.txt (line 1))\n",
      "  Using cached torch-2.7.1-cp310-none-macosx_11_0_arm64.whl.metadata (29 kB)\n",
      "Collecting scikit-learn (from sentence-transformers->-r g.txt (line 1))\n",
      "  Using cached scikit_learn-1.7.0-cp310-cp310-macosx_12_0_arm64.whl.metadata (31 kB)\n",
      "Collecting scipy (from sentence-transformers->-r g.txt (line 1))\n",
      "  Using cached scipy-1.15.3-cp310-cp310-macosx_14_0_arm64.whl.metadata (61 kB)\n",
      "Collecting huggingface-hub>=0.20.0 (from sentence-transformers->-r g.txt (line 1))\n",
      "  Using cached huggingface_hub-0.33.0-py3-none-any.whl.metadata (14 kB)\n",
      "Collecting Pillow (from sentence-transformers->-r g.txt (line 1))\n",
      "  Using cached pillow-11.2.1-cp310-cp310-macosx_11_0_arm64.whl.metadata (8.9 kB)\n",
      "Requirement already satisfied: typing_extensions>=4.5.0 in /Users/karthiksarma/Desktop/med_bot/.venv/lib/python3.10/site-packages (from sentence-transformers->-r g.txt (line 1)) (4.14.0)\n",
      "Collecting filelock (from transformers<5.0.0,>=4.41.0->sentence-transformers->-r g.txt (line 1))\n",
      "  Using cached filelock-3.18.0-py3-none-any.whl.metadata (2.9 kB)\n",
      "Requirement already satisfied: numpy>=1.17 in /Users/karthiksarma/Desktop/med_bot/.venv/lib/python3.10/site-packages (from transformers<5.0.0,>=4.41.0->sentence-transformers->-r g.txt (line 1)) (2.2.6)\n",
      "Requirement already satisfied: packaging>=20.0 in /Users/karthiksarma/Desktop/med_bot/.venv/lib/python3.10/site-packages (from transformers<5.0.0,>=4.41.0->sentence-transformers->-r g.txt (line 1)) (24.2)\n",
      "Requirement already satisfied: pyyaml>=5.1 in /Users/karthiksarma/Desktop/med_bot/.venv/lib/python3.10/site-packages (from transformers<5.0.0,>=4.41.0->sentence-transformers->-r g.txt (line 1)) (6.0.2)\n",
      "Collecting regex!=2019.12.17 (from transformers<5.0.0,>=4.41.0->sentence-transformers->-r g.txt (line 1))\n",
      "  Using cached regex-2024.11.6-cp310-cp310-macosx_11_0_arm64.whl.metadata (40 kB)\n",
      "Requirement already satisfied: requests in /Users/karthiksarma/Desktop/med_bot/.venv/lib/python3.10/site-packages (from transformers<5.0.0,>=4.41.0->sentence-transformers->-r g.txt (line 1)) (2.32.4)\n",
      "Collecting tokenizers<0.22,>=0.21 (from transformers<5.0.0,>=4.41.0->sentence-transformers->-r g.txt (line 1))\n",
      "  Using cached tokenizers-0.21.1-cp39-abi3-macosx_11_0_arm64.whl.metadata (6.8 kB)\n",
      "Collecting safetensors>=0.4.3 (from transformers<5.0.0,>=4.41.0->sentence-transformers->-r g.txt (line 1))\n",
      "  Using cached safetensors-0.5.3-cp38-abi3-macosx_11_0_arm64.whl.metadata (3.8 kB)\n",
      "Collecting fsspec>=2023.5.0 (from huggingface-hub>=0.20.0->sentence-transformers->-r g.txt (line 1))\n",
      "  Using cached fsspec-2025.5.1-py3-none-any.whl.metadata (11 kB)\n",
      "Collecting hf-xet<2.0.0,>=1.1.2 (from huggingface-hub>=0.20.0->sentence-transformers->-r g.txt (line 1))\n",
      "  Using cached hf_xet-1.1.3-cp37-abi3-macosx_11_0_arm64.whl.metadata (879 bytes)\n",
      "Requirement already satisfied: langchain-core<1.0.0,>=0.3.58 in /Users/karthiksarma/Desktop/med_bot/.venv/lib/python3.10/site-packages (from langchain->-r g.txt (line 2)) (0.3.65)\n",
      "Requirement already satisfied: langchain-text-splitters<1.0.0,>=0.3.8 in /Users/karthiksarma/Desktop/med_bot/.venv/lib/python3.10/site-packages (from langchain->-r g.txt (line 2)) (0.3.8)\n",
      "Requirement already satisfied: langsmith<0.4,>=0.1.17 in /Users/karthiksarma/Desktop/med_bot/.venv/lib/python3.10/site-packages (from langchain->-r g.txt (line 2)) (0.3.45)\n",
      "Requirement already satisfied: pydantic<3.0.0,>=2.7.4 in /Users/karthiksarma/Desktop/med_bot/.venv/lib/python3.10/site-packages (from langchain->-r g.txt (line 2)) (2.11.7)\n",
      "Requirement already satisfied: SQLAlchemy<3,>=1.4 in /Users/karthiksarma/Desktop/med_bot/.venv/lib/python3.10/site-packages (from langchain->-r g.txt (line 2)) (2.0.41)\n",
      "Requirement already satisfied: async-timeout<5.0.0,>=4.0.0 in /Users/karthiksarma/Desktop/med_bot/.venv/lib/python3.10/site-packages (from langchain->-r g.txt (line 2)) (4.0.3)\n",
      "Requirement already satisfied: tenacity!=8.4.0,<10.0.0,>=8.1.0 in /Users/karthiksarma/Desktop/med_bot/.venv/lib/python3.10/site-packages (from langchain-core<1.0.0,>=0.3.58->langchain->-r g.txt (line 2)) (9.1.2)\n",
      "Requirement already satisfied: jsonpatch<2.0,>=1.33 in /Users/karthiksarma/Desktop/med_bot/.venv/lib/python3.10/site-packages (from langchain-core<1.0.0,>=0.3.58->langchain->-r g.txt (line 2)) (1.33)\n",
      "Requirement already satisfied: jsonpointer>=1.9 in /Users/karthiksarma/Desktop/med_bot/.venv/lib/python3.10/site-packages (from jsonpatch<2.0,>=1.33->langchain-core<1.0.0,>=0.3.58->langchain->-r g.txt (line 2)) (3.0.0)\n",
      "Requirement already satisfied: httpx<1,>=0.23.0 in /Users/karthiksarma/Desktop/med_bot/.venv/lib/python3.10/site-packages (from langsmith<0.4,>=0.1.17->langchain->-r g.txt (line 2)) (0.28.1)\n",
      "Requirement already satisfied: orjson<4.0.0,>=3.9.14 in /Users/karthiksarma/Desktop/med_bot/.venv/lib/python3.10/site-packages (from langsmith<0.4,>=0.1.17->langchain->-r g.txt (line 2)) (3.10.18)\n",
      "Requirement already satisfied: requests-toolbelt<2.0.0,>=1.0.0 in /Users/karthiksarma/Desktop/med_bot/.venv/lib/python3.10/site-packages (from langsmith<0.4,>=0.1.17->langchain->-r g.txt (line 2)) (1.0.0)\n",
      "Requirement already satisfied: zstandard<0.24.0,>=0.23.0 in /Users/karthiksarma/Desktop/med_bot/.venv/lib/python3.10/site-packages (from langsmith<0.4,>=0.1.17->langchain->-r g.txt (line 2)) (0.23.0)\n",
      "Requirement already satisfied: anyio in /Users/karthiksarma/Desktop/med_bot/.venv/lib/python3.10/site-packages (from httpx<1,>=0.23.0->langsmith<0.4,>=0.1.17->langchain->-r g.txt (line 2)) (4.9.0)\n",
      "Requirement already satisfied: certifi in /Users/karthiksarma/Desktop/med_bot/.venv/lib/python3.10/site-packages (from httpx<1,>=0.23.0->langsmith<0.4,>=0.1.17->langchain->-r g.txt (line 2)) (2025.6.15)\n",
      "Requirement already satisfied: httpcore==1.* in /Users/karthiksarma/Desktop/med_bot/.venv/lib/python3.10/site-packages (from httpx<1,>=0.23.0->langsmith<0.4,>=0.1.17->langchain->-r g.txt (line 2)) (1.0.9)\n",
      "Requirement already satisfied: idna in /Users/karthiksarma/Desktop/med_bot/.venv/lib/python3.10/site-packages (from httpx<1,>=0.23.0->langsmith<0.4,>=0.1.17->langchain->-r g.txt (line 2)) (3.10)\n",
      "Requirement already satisfied: h11>=0.16 in /Users/karthiksarma/Desktop/med_bot/.venv/lib/python3.10/site-packages (from httpcore==1.*->httpx<1,>=0.23.0->langsmith<0.4,>=0.1.17->langchain->-r g.txt (line 2)) (0.16.0)\n",
      "Requirement already satisfied: annotated-types>=0.6.0 in /Users/karthiksarma/Desktop/med_bot/.venv/lib/python3.10/site-packages (from pydantic<3.0.0,>=2.7.4->langchain->-r g.txt (line 2)) (0.7.0)\n",
      "Requirement already satisfied: pydantic-core==2.33.2 in /Users/karthiksarma/Desktop/med_bot/.venv/lib/python3.10/site-packages (from pydantic<3.0.0,>=2.7.4->langchain->-r g.txt (line 2)) (2.33.2)\n",
      "Requirement already satisfied: typing-inspection>=0.4.0 in /Users/karthiksarma/Desktop/med_bot/.venv/lib/python3.10/site-packages (from pydantic<3.0.0,>=2.7.4->langchain->-r g.txt (line 2)) (0.4.1)\n",
      "Requirement already satisfied: charset_normalizer<4,>=2 in /Users/karthiksarma/Desktop/med_bot/.venv/lib/python3.10/site-packages (from requests->transformers<5.0.0,>=4.41.0->sentence-transformers->-r g.txt (line 1)) (3.4.2)\n",
      "Requirement already satisfied: urllib3<3,>=1.21.1 in /Users/karthiksarma/Desktop/med_bot/.venv/lib/python3.10/site-packages (from requests->transformers<5.0.0,>=4.41.0->sentence-transformers->-r g.txt (line 1)) (2.4.0)\n",
      "Collecting blinker>=1.9.0 (from flask->-r g.txt (line 3))\n",
      "  Using cached blinker-1.9.0-py3-none-any.whl.metadata (1.6 kB)\n",
      "Collecting click>=8.1.3 (from flask->-r g.txt (line 3))\n",
      "  Using cached click-8.2.1-py3-none-any.whl.metadata (2.5 kB)\n",
      "Collecting itsdangerous>=2.2.0 (from flask->-r g.txt (line 3))\n",
      "  Using cached itsdangerous-2.2.0-py3-none-any.whl.metadata (1.9 kB)\n",
      "Collecting jinja2>=3.1.2 (from flask->-r g.txt (line 3))\n",
      "  Using cached jinja2-3.1.6-py3-none-any.whl.metadata (2.9 kB)\n",
      "Collecting markupsafe>=2.1.1 (from flask->-r g.txt (line 3))\n",
      "  Using cached MarkupSafe-3.0.2-cp310-cp310-macosx_11_0_arm64.whl.metadata (4.0 kB)\n",
      "Collecting werkzeug>=3.1.0 (from flask->-r g.txt (line 3))\n",
      "  Using cached werkzeug-3.1.3-py3-none-any.whl.metadata (3.7 kB)\n",
      "Collecting pinecone-plugin-interface<0.0.8,>=0.0.7 (from pinecone-client[grpc]->-r g.txt (line 6))\n",
      "  Using cached pinecone_plugin_interface-0.0.7-py3-none-any.whl.metadata (1.2 kB)\n",
      "Requirement already satisfied: python-dateutil>=2.5.3 in /Users/karthiksarma/Desktop/med_bot/.venv/lib/python3.10/site-packages (from pinecone-client[grpc]->-r g.txt (line 6)) (2.9.0.post0)\n",
      "Collecting googleapis-common-protos>=1.66.0 (from pinecone-client[grpc]->-r g.txt (line 6))\n",
      "  Using cached googleapis_common_protos-1.70.0-py3-none-any.whl.metadata (9.3 kB)\n",
      "Collecting grpcio>=1.44.0 (from pinecone-client[grpc]->-r g.txt (line 6))\n",
      "  Using cached grpcio-1.73.0-cp310-cp310-macosx_11_0_universal2.whl.metadata (3.8 kB)\n",
      "Collecting lz4>=3.1.3 (from pinecone-client[grpc]->-r g.txt (line 6))\n",
      "  Using cached lz4-4.4.4-cp310-cp310-macosx_11_0_arm64.whl.metadata (3.8 kB)\n",
      "Collecting protobuf<6.0,>=5.29 (from pinecone-client[grpc]->-r g.txt (line 6))\n",
      "  Using cached protobuf-5.29.5-cp38-abi3-macosx_10_9_universal2.whl.metadata (592 bytes)\n",
      "Collecting protoc-gen-openapiv2<0.0.2,>=0.0.1 (from pinecone-client[grpc]->-r g.txt (line 6))\n",
      "  Using cached protoc_gen_openapiv2-0.0.1-py3-none-any.whl.metadata (1.5 kB)\n",
      "Collecting pinecone<8.0.0,>=6.0.0 (from pinecone[asyncio]<8.0.0,>=6.0.0->langchain-pinecone->-r g.txt (line 7))\n",
      "  Using cached pinecone-7.0.2-py3-none-any.whl.metadata (9.5 kB)\n",
      "Collecting langchain-tests<1.0.0,>=0.3.7 (from langchain-pinecone->-r g.txt (line 7))\n",
      "  Using cached langchain_tests-0.3.20-py3-none-any.whl.metadata (3.3 kB)\n",
      "Collecting pytest<9,>=7 (from langchain-tests<1.0.0,>=0.3.7->langchain-pinecone->-r g.txt (line 7))\n",
      "  Using cached pytest-8.4.0-py3-none-any.whl.metadata (7.7 kB)\n",
      "Collecting pytest-asyncio<1,>=0.20 (from langchain-tests<1.0.0,>=0.3.7->langchain-pinecone->-r g.txt (line 7))\n",
      "  Using cached pytest_asyncio-0.26.0-py3-none-any.whl.metadata (4.0 kB)\n",
      "Collecting syrupy<5,>=4 (from langchain-tests<1.0.0,>=0.3.7->langchain-pinecone->-r g.txt (line 7))\n",
      "  Using cached syrupy-4.9.1-py3-none-any.whl.metadata (38 kB)\n",
      "Collecting pytest-socket<1,>=0.6.0 (from langchain-tests<1.0.0,>=0.3.7->langchain-pinecone->-r g.txt (line 7))\n",
      "  Using cached pytest_socket-0.7.0-py3-none-any.whl.metadata (6.7 kB)\n",
      "Collecting pytest-benchmark (from langchain-tests<1.0.0,>=0.3.7->langchain-pinecone->-r g.txt (line 7))\n",
      "  Using cached pytest_benchmark-5.1.0-py3-none-any.whl.metadata (25 kB)\n",
      "Collecting pytest-codspeed (from langchain-tests<1.0.0,>=0.3.7->langchain-pinecone->-r g.txt (line 7))\n",
      "  Using cached pytest_codspeed-3.2.0-py3-none-any.whl.metadata (6.3 kB)\n",
      "Collecting pytest-recording (from langchain-tests<1.0.0,>=0.3.7->langchain-pinecone->-r g.txt (line 7))\n",
      "  Using cached pytest_recording-0.13.4-py3-none-any.whl.metadata (11 kB)\n",
      "Collecting vcrpy>=7.0 (from langchain-tests<1.0.0,>=0.3.7->langchain-pinecone->-r g.txt (line 7))\n",
      "  Using cached vcrpy-7.0.0-py2.py3-none-any.whl.metadata (4.6 kB)\n",
      "Collecting pinecone-plugin-assistant<2.0.0,>=1.6.0 (from pinecone<8.0.0,>=6.0.0->pinecone[asyncio]<8.0.0,>=6.0.0->langchain-pinecone->-r g.txt (line 7))\n",
      "  Using cached pinecone_plugin_assistant-1.7.0-py3-none-any.whl.metadata (28 kB)\n",
      "Requirement already satisfied: aiohttp>=3.9.0 in /Users/karthiksarma/Desktop/med_bot/.venv/lib/python3.10/site-packages (from pinecone[asyncio]<8.0.0,>=6.0.0->langchain-pinecone->-r g.txt (line 7)) (3.12.13)\n",
      "Collecting aiohttp-retry<3.0.0,>=2.9.1 (from pinecone[asyncio]<8.0.0,>=6.0.0->langchain-pinecone->-r g.txt (line 7))\n",
      "  Using cached aiohttp_retry-2.9.1-py3-none-any.whl.metadata (8.8 kB)\n",
      "Requirement already satisfied: exceptiongroup>=1 in /Users/karthiksarma/Desktop/med_bot/.venv/lib/python3.10/site-packages (from pytest<9,>=7->langchain-tests<1.0.0,>=0.3.7->langchain-pinecone->-r g.txt (line 7)) (1.3.0)\n",
      "Collecting iniconfig>=1 (from pytest<9,>=7->langchain-tests<1.0.0,>=0.3.7->langchain-pinecone->-r g.txt (line 7))\n",
      "  Using cached iniconfig-2.1.0-py3-none-any.whl.metadata (2.7 kB)\n",
      "Collecting pluggy<2,>=1.5 (from pytest<9,>=7->langchain-tests<1.0.0,>=0.3.7->langchain-pinecone->-r g.txt (line 7))\n",
      "  Using cached pluggy-1.6.0-py3-none-any.whl.metadata (4.8 kB)\n",
      "Requirement already satisfied: pygments>=2.7.2 in /Users/karthiksarma/Desktop/med_bot/.venv/lib/python3.10/site-packages (from pytest<9,>=7->langchain-tests<1.0.0,>=0.3.7->langchain-pinecone->-r g.txt (line 7)) (2.19.1)\n",
      "Collecting tomli>=1 (from pytest<9,>=7->langchain-tests<1.0.0,>=0.3.7->langchain-pinecone->-r g.txt (line 7))\n",
      "  Using cached tomli-2.2.1-py3-none-any.whl.metadata (10 kB)\n",
      "Requirement already satisfied: dataclasses-json<0.7,>=0.5.7 in /Users/karthiksarma/Desktop/med_bot/.venv/lib/python3.10/site-packages (from langchain_community->-r g.txt (line 8)) (0.6.7)\n",
      "Requirement already satisfied: pydantic-settings<3.0.0,>=2.4.0 in /Users/karthiksarma/Desktop/med_bot/.venv/lib/python3.10/site-packages (from langchain_community->-r g.txt (line 8)) (2.9.1)\n",
      "Requirement already satisfied: httpx-sse<1.0.0,>=0.4.0 in /Users/karthiksarma/Desktop/med_bot/.venv/lib/python3.10/site-packages (from langchain_community->-r g.txt (line 8)) (0.4.0)\n",
      "Requirement already satisfied: aiohappyeyeballs>=2.5.0 in /Users/karthiksarma/Desktop/med_bot/.venv/lib/python3.10/site-packages (from aiohttp>=3.9.0->pinecone[asyncio]<8.0.0,>=6.0.0->langchain-pinecone->-r g.txt (line 7)) (2.6.1)\n",
      "Requirement already satisfied: aiosignal>=1.1.2 in /Users/karthiksarma/Desktop/med_bot/.venv/lib/python3.10/site-packages (from aiohttp>=3.9.0->pinecone[asyncio]<8.0.0,>=6.0.0->langchain-pinecone->-r g.txt (line 7)) (1.3.2)\n",
      "Requirement already satisfied: attrs>=17.3.0 in /Users/karthiksarma/Desktop/med_bot/.venv/lib/python3.10/site-packages (from aiohttp>=3.9.0->pinecone[asyncio]<8.0.0,>=6.0.0->langchain-pinecone->-r g.txt (line 7)) (25.3.0)\n",
      "Requirement already satisfied: frozenlist>=1.1.1 in /Users/karthiksarma/Desktop/med_bot/.venv/lib/python3.10/site-packages (from aiohttp>=3.9.0->pinecone[asyncio]<8.0.0,>=6.0.0->langchain-pinecone->-r g.txt (line 7)) (1.7.0)\n",
      "Requirement already satisfied: multidict<7.0,>=4.5 in /Users/karthiksarma/Desktop/med_bot/.venv/lib/python3.10/site-packages (from aiohttp>=3.9.0->pinecone[asyncio]<8.0.0,>=6.0.0->langchain-pinecone->-r g.txt (line 7)) (6.4.4)\n",
      "Requirement already satisfied: propcache>=0.2.0 in /Users/karthiksarma/Desktop/med_bot/.venv/lib/python3.10/site-packages (from aiohttp>=3.9.0->pinecone[asyncio]<8.0.0,>=6.0.0->langchain-pinecone->-r g.txt (line 7)) (0.3.2)\n",
      "Requirement already satisfied: yarl<2.0,>=1.17.0 in /Users/karthiksarma/Desktop/med_bot/.venv/lib/python3.10/site-packages (from aiohttp>=3.9.0->pinecone[asyncio]<8.0.0,>=6.0.0->langchain-pinecone->-r g.txt (line 7)) (1.20.1)\n",
      "Requirement already satisfied: marshmallow<4.0.0,>=3.18.0 in /Users/karthiksarma/Desktop/med_bot/.venv/lib/python3.10/site-packages (from dataclasses-json<0.7,>=0.5.7->langchain_community->-r g.txt (line 8)) (3.26.1)\n",
      "Requirement already satisfied: typing-inspect<1,>=0.4.0 in /Users/karthiksarma/Desktop/med_bot/.venv/lib/python3.10/site-packages (from dataclasses-json<0.7,>=0.5.7->langchain_community->-r g.txt (line 8)) (0.9.0)\n",
      "Requirement already satisfied: mypy-extensions>=0.3.0 in /Users/karthiksarma/Desktop/med_bot/.venv/lib/python3.10/site-packages (from typing-inspect<1,>=0.4.0->dataclasses-json<0.7,>=0.5.7->langchain_community->-r g.txt (line 8)) (1.1.0)\n",
      "Collecting openai<2.0.0,>=1.68.2 (from langchain_openai->-r g.txt (line 9))\n",
      "  Using cached openai-1.86.0-py3-none-any.whl.metadata (25 kB)\n",
      "Collecting tiktoken<1,>=0.7 (from langchain_openai->-r g.txt (line 9))\n",
      "  Using cached tiktoken-0.9.0-cp310-cp310-macosx_11_0_arm64.whl.metadata (6.7 kB)\n",
      "Collecting distro<2,>=1.7.0 (from openai<2.0.0,>=1.68.2->langchain_openai->-r g.txt (line 9))\n",
      "  Using cached distro-1.9.0-py3-none-any.whl.metadata (6.8 kB)\n",
      "Collecting jiter<1,>=0.4.0 (from openai<2.0.0,>=1.68.2->langchain_openai->-r g.txt (line 9))\n",
      "  Using cached jiter-0.10.0-cp310-cp310-macosx_11_0_arm64.whl.metadata (5.2 kB)\n",
      "Requirement already satisfied: sniffio in /Users/karthiksarma/Desktop/med_bot/.venv/lib/python3.10/site-packages (from openai<2.0.0,>=1.68.2->langchain_openai->-r g.txt (line 9)) (1.3.1)\n",
      "Requirement already satisfied: six>=1.5 in /Users/karthiksarma/Desktop/med_bot/.venv/lib/python3.10/site-packages (from python-dateutil>=2.5.3->pinecone-client[grpc]->-r g.txt (line 6)) (1.17.0)\n",
      "Collecting sympy>=1.13.3 (from torch>=1.11.0->sentence-transformers->-r g.txt (line 1))\n",
      "  Using cached sympy-1.14.0-py3-none-any.whl.metadata (12 kB)\n",
      "Collecting networkx (from torch>=1.11.0->sentence-transformers->-r g.txt (line 1))\n",
      "  Using cached networkx-3.4.2-py3-none-any.whl.metadata (6.3 kB)\n",
      "Collecting mpmath<1.4,>=1.1.0 (from sympy>=1.13.3->torch>=1.11.0->sentence-transformers->-r g.txt (line 1))\n",
      "  Using cached mpmath-1.3.0-py3-none-any.whl.metadata (8.6 kB)\n",
      "Collecting wrapt (from vcrpy>=7.0->langchain-tests<1.0.0,>=0.3.7->langchain-pinecone->-r g.txt (line 7))\n",
      "  Using cached wrapt-1.17.2-cp310-cp310-macosx_11_0_arm64.whl.metadata (6.4 kB)\n",
      "Collecting py-cpuinfo (from pytest-benchmark->langchain-tests<1.0.0,>=0.3.7->langchain-pinecone->-r g.txt (line 7))\n",
      "  Using cached py_cpuinfo-9.0.0-py3-none-any.whl.metadata (794 bytes)\n",
      "Collecting cffi>=1.17.1 (from pytest-codspeed->langchain-tests<1.0.0,>=0.3.7->langchain-pinecone->-r g.txt (line 7))\n",
      "  Using cached cffi-1.17.1-cp310-cp310-macosx_11_0_arm64.whl.metadata (1.5 kB)\n",
      "Collecting rich>=13.8.1 (from pytest-codspeed->langchain-tests<1.0.0,>=0.3.7->langchain-pinecone->-r g.txt (line 7))\n",
      "  Using cached rich-14.0.0-py3-none-any.whl.metadata (18 kB)\n",
      "Collecting pycparser (from cffi>=1.17.1->pytest-codspeed->langchain-tests<1.0.0,>=0.3.7->langchain-pinecone->-r g.txt (line 7))\n",
      "  Using cached pycparser-2.22-py3-none-any.whl.metadata (943 bytes)\n",
      "Collecting markdown-it-py>=2.2.0 (from rich>=13.8.1->pytest-codspeed->langchain-tests<1.0.0,>=0.3.7->langchain-pinecone->-r g.txt (line 7))\n",
      "  Using cached markdown_it_py-3.0.0-py3-none-any.whl.metadata (6.9 kB)\n",
      "Collecting mdurl~=0.1 (from markdown-it-py>=2.2.0->rich>=13.8.1->pytest-codspeed->langchain-tests<1.0.0,>=0.3.7->langchain-pinecone->-r g.txt (line 7))\n",
      "  Using cached mdurl-0.1.2-py3-none-any.whl.metadata (1.6 kB)\n",
      "Collecting joblib>=1.2.0 (from scikit-learn->sentence-transformers->-r g.txt (line 1))\n",
      "  Using cached joblib-1.5.1-py3-none-any.whl.metadata (5.6 kB)\n",
      "Collecting threadpoolctl>=3.1.0 (from scikit-learn->sentence-transformers->-r g.txt (line 1))\n",
      "  Using cached threadpoolctl-3.6.0-py3-none-any.whl.metadata (13 kB)\n",
      "Using cached sentence_transformers-4.1.0-py3-none-any.whl (345 kB)\n",
      "Using cached transformers-4.52.4-py3-none-any.whl (10.5 MB)\n",
      "Using cached huggingface_hub-0.33.0-py3-none-any.whl (514 kB)\n",
      "Using cached hf_xet-1.1.3-cp37-abi3-macosx_11_0_arm64.whl (2.2 MB)\n",
      "Using cached tokenizers-0.21.1-cp39-abi3-macosx_11_0_arm64.whl (2.7 MB)\n",
      "Using cached flask-3.1.1-py3-none-any.whl (103 kB)\n",
      "Using cached pypdf-5.6.0-py3-none-any.whl (304 kB)\n",
      "Using cached pinecone_client-6.0.0-py3-none-any.whl (6.7 kB)\n",
      "Using cached pinecone_plugin_interface-0.0.7-py3-none-any.whl (6.2 kB)\n",
      "Using cached protobuf-5.29.5-cp38-abi3-macosx_10_9_universal2.whl (418 kB)\n",
      "Using cached protoc_gen_openapiv2-0.0.1-py3-none-any.whl (7.9 kB)\n",
      "Using cached langchain_pinecone-0.2.8-py3-none-any.whl (22 kB)\n",
      "Using cached langchain_tests-0.3.20-py3-none-any.whl (46 kB)\n",
      "Using cached pinecone-7.0.2-py3-none-any.whl (516 kB)\n",
      "Using cached pinecone_plugin_assistant-1.7.0-py3-none-any.whl (239 kB)\n",
      "Using cached aiohttp_retry-2.9.1-py3-none-any.whl (10.0 kB)\n",
      "Using cached pytest-8.4.0-py3-none-any.whl (363 kB)\n",
      "Using cached pluggy-1.6.0-py3-none-any.whl (20 kB)\n",
      "Using cached pytest_asyncio-0.26.0-py3-none-any.whl (19 kB)\n",
      "Using cached pytest_socket-0.7.0-py3-none-any.whl (6.8 kB)\n",
      "Using cached syrupy-4.9.1-py3-none-any.whl (52 kB)\n",
      "Using cached langchain_openai-0.3.23-py3-none-any.whl (65 kB)\n",
      "Using cached openai-1.86.0-py3-none-any.whl (730 kB)\n",
      "Using cached distro-1.9.0-py3-none-any.whl (20 kB)\n",
      "Using cached jiter-0.10.0-cp310-cp310-macosx_11_0_arm64.whl (322 kB)\n",
      "Using cached tiktoken-0.9.0-cp310-cp310-macosx_11_0_arm64.whl (1.0 MB)\n",
      "Using cached langchain_experimental-0.3.4-py3-none-any.whl (209 kB)\n",
      "Using cached blinker-1.9.0-py3-none-any.whl (8.5 kB)\n",
      "Using cached click-8.2.1-py3-none-any.whl (102 kB)\n",
      "Using cached fsspec-2025.5.1-py3-none-any.whl (199 kB)\n",
      "Using cached googleapis_common_protos-1.70.0-py3-none-any.whl (294 kB)\n",
      "Using cached grpcio-1.73.0-cp310-cp310-macosx_11_0_universal2.whl (10.6 MB)\n",
      "Using cached iniconfig-2.1.0-py3-none-any.whl (6.0 kB)\n",
      "Using cached itsdangerous-2.2.0-py3-none-any.whl (16 kB)\n",
      "Using cached jinja2-3.1.6-py3-none-any.whl (134 kB)\n",
      "Using cached lz4-4.4.4-cp310-cp310-macosx_11_0_arm64.whl (189 kB)\n",
      "Using cached MarkupSafe-3.0.2-cp310-cp310-macosx_11_0_arm64.whl (12 kB)\n",
      "Using cached regex-2024.11.6-cp310-cp310-macosx_11_0_arm64.whl (284 kB)\n",
      "Using cached safetensors-0.5.3-cp38-abi3-macosx_11_0_arm64.whl (418 kB)\n",
      "Using cached tomli-2.2.1-py3-none-any.whl (14 kB)\n",
      "Using cached torch-2.7.1-cp310-none-macosx_11_0_arm64.whl (68.6 MB)\n",
      "Using cached sympy-1.14.0-py3-none-any.whl (6.3 MB)\n",
      "Using cached mpmath-1.3.0-py3-none-any.whl (536 kB)\n",
      "Using cached tqdm-4.67.1-py3-none-any.whl (78 kB)\n",
      "Using cached vcrpy-7.0.0-py2.py3-none-any.whl (42 kB)\n",
      "Using cached werkzeug-3.1.3-py3-none-any.whl (224 kB)\n",
      "Using cached filelock-3.18.0-py3-none-any.whl (16 kB)\n",
      "Using cached networkx-3.4.2-py3-none-any.whl (1.7 MB)\n",
      "Using cached pillow-11.2.1-cp310-cp310-macosx_11_0_arm64.whl (3.0 MB)\n",
      "Using cached pytest_benchmark-5.1.0-py3-none-any.whl (44 kB)\n",
      "Using cached py_cpuinfo-9.0.0-py3-none-any.whl (22 kB)\n",
      "Using cached pytest_codspeed-3.2.0-py3-none-any.whl (15 kB)\n",
      "Using cached cffi-1.17.1-cp310-cp310-macosx_11_0_arm64.whl (178 kB)\n",
      "Using cached rich-14.0.0-py3-none-any.whl (243 kB)\n",
      "Using cached markdown_it_py-3.0.0-py3-none-any.whl (87 kB)\n",
      "Using cached mdurl-0.1.2-py3-none-any.whl (10.0 kB)\n",
      "Using cached pycparser-2.22-py3-none-any.whl (117 kB)\n",
      "Using cached pytest_recording-0.13.4-py3-none-any.whl (13 kB)\n",
      "Using cached scikit_learn-1.7.0-cp310-cp310-macosx_12_0_arm64.whl (10.7 MB)\n",
      "Using cached joblib-1.5.1-py3-none-any.whl (307 kB)\n",
      "Using cached scipy-1.15.3-cp310-cp310-macosx_14_0_arm64.whl (22.4 MB)\n",
      "Using cached threadpoolctl-3.6.0-py3-none-any.whl (18 kB)\n",
      "Using cached wrapt-1.17.2-cp310-cp310-macosx_11_0_arm64.whl (38 kB)\n",
      "Building wheels for collected packages: Gen-AI-Project\n",
      "  Building editable for Gen-AI-Project (pyproject.toml) ... \u001b[?25ldone\n",
      "\u001b[?25h  Created wheel for Gen-AI-Project: filename=gen_ai_project-0.0.0-0.editable-py3-none-any.whl size=3675 sha256=27b7822e2e619fb1d9fc19163c8f05316b46064f13f17a24693ab5a0efee3e9d\n",
      "  Stored in directory: /private/var/folders/jn/m6jltl9j6zg1wy6x51230sv80000gn/T/pip-ephem-wheel-cache-r_0npx_v/wheels/b5/e4/e9/8392383ef014fe863e23186a4de4a2d41211756da597a2eee7\n",
      "Successfully built Gen-AI-Project\n",
      "Installing collected packages: py-cpuinfo, mpmath, Gen-AI-Project, wrapt, tqdm, tomli, threadpoolctl, sympy, scipy, safetensors, regex, pypdf, pycparser, protobuf, pluggy, pinecone-plugin-interface, Pillow, networkx, mdurl, markupsafe, lz4, joblib, jiter, itsdangerous, iniconfig, hf-xet, grpcio, fsspec, filelock, distro, click, blinker, werkzeug, tiktoken, scikit-learn, pytest, pinecone-plugin-assistant, pinecone-client, markdown-it-py, jinja2, huggingface-hub, googleapis-common-protos, cffi, vcrpy, torch, tokenizers, syrupy, rich, pytest-socket, pytest-benchmark, pytest-asyncio, protoc-gen-openapiv2, pinecone, flask, transformers, pytest-recording, pytest-codspeed, openai, aiohttp-retry, sentence-transformers, langchain-tests, langchain_openai, langchain-pinecone, langchain_experimental\n",
      "\u001b[2K   \u001b[90m━━━━━━━━━━━━━━━━━━━━━━━━━━━━━━━━━━━━━━━━\u001b[0m \u001b[32m64/64\u001b[0m [langchain_experimental]rimental]formers]ant]\n",
      "\u001b[1A\u001b[2KSuccessfully installed Gen-AI-Project-0.0.0 Pillow-11.2.1 aiohttp-retry-2.9.1 blinker-1.9.0 cffi-1.17.1 click-8.2.1 distro-1.9.0 filelock-3.18.0 flask-3.1.1 fsspec-2025.5.1 googleapis-common-protos-1.70.0 grpcio-1.73.0 hf-xet-1.1.3 huggingface-hub-0.33.0 iniconfig-2.1.0 itsdangerous-2.2.0 jinja2-3.1.6 jiter-0.10.0 joblib-1.5.1 langchain-pinecone-0.2.8 langchain-tests-0.3.20 langchain_experimental-0.3.4 langchain_openai-0.3.23 lz4-4.4.4 markdown-it-py-3.0.0 markupsafe-3.0.2 mdurl-0.1.2 mpmath-1.3.0 networkx-3.4.2 openai-1.86.0 pinecone-7.0.2 pinecone-client-6.0.0 pinecone-plugin-assistant-1.7.0 pinecone-plugin-interface-0.0.7 pluggy-1.6.0 protobuf-5.29.5 protoc-gen-openapiv2-0.0.1 py-cpuinfo-9.0.0 pycparser-2.22 pypdf-5.6.0 pytest-8.4.0 pytest-asyncio-0.26.0 pytest-benchmark-5.1.0 pytest-codspeed-3.2.0 pytest-recording-0.13.4 pytest-socket-0.7.0 regex-2024.11.6 rich-14.0.0 safetensors-0.5.3 scikit-learn-1.7.0 scipy-1.15.3 sentence-transformers-4.1.0 sympy-1.14.0 syrupy-4.9.1 threadpoolctl-3.6.0 tiktoken-0.9.0 tokenizers-0.21.1 tomli-2.2.1 torch-2.7.1 tqdm-4.67.1 transformers-4.52.4 vcrpy-7.0.0 werkzeug-3.1.3 wrapt-1.17.2\n",
      "Note: you may need to restart the kernel to use updated packages.\n"
     ]
    }
   ],
   "source": [
    "pip install -r g.txt\n"
   ]
  },
  {
   "cell_type": "code",
   "execution_count": 31,
   "id": "feb8e6e1-ad24-4742-a33f-155b2e28a092",
   "metadata": {},
   "outputs": [],
   "source": [
    "extrac= load_pdf_file(data= 'Data/')"
   ]
  },
  {
   "cell_type": "code",
   "execution_count": 32,
   "id": "2bd7417e-f4d8-4d0e-85cb-49884c6a4417",
   "metadata": {},
   "outputs": [],
   "source": [
    "def text_split(exac):\n",
    "    spl= RecursiveCharacterTextSplitter(chunk_size= 500, chunk_overlap= 20)\n",
    "    chunks= spl.split_documents(exac)\n",
    "    return chunks\n",
    "    \n",
    "    "
   ]
  },
  {
   "cell_type": "code",
   "execution_count": 44,
   "id": "3fc16459-8870-46c3-a7f7-5069baf83a74",
   "metadata": {},
   "outputs": [
    {
     "name": "stdout",
     "output_type": "stream",
     "text": [
      "length of chunks is : 5859\n"
     ]
    }
   ],
   "source": [
    "chunks= text_split(extrac)\n",
    "print(f'length of chunks is : {len(chunks)}')"
   ]
  },
  {
   "cell_type": "code",
   "execution_count": 34,
   "id": "5cfa144e-9a9e-4980-9750-561eec40ec3e",
   "metadata": {},
   "outputs": [],
   "source": [
    "from langchain.embeddings import HuggingFaceEmbeddings\n"
   ]
  },
  {
   "cell_type": "code",
   "execution_count": 35,
   "id": "e03a90c1-934f-4293-a15d-866805751b6e",
   "metadata": {},
   "outputs": [],
   "source": [
    "def download_hugging_face():\n",
    "    emb= HuggingFaceEmbeddings(model_name= 'sentence-transformers/all-MiniLM-L6-v2'\n",
    ")\n",
    "    return emb"
   ]
  },
  {
   "cell_type": "code",
   "execution_count": 36,
   "id": "bbc2b3c1-4e44-4b15-918c-9e2b96c716e2",
   "metadata": {},
   "outputs": [
    {
     "name": "stderr",
     "output_type": "stream",
     "text": [
      "/var/folders/jn/m6jltl9j6zg1wy6x51230sv80000gn/T/ipykernel_67713/2548743923.py:2: LangChainDeprecationWarning: The class `HuggingFaceEmbeddings` was deprecated in LangChain 0.2.2 and will be removed in 1.0. An updated version of the class exists in the :class:`~langchain-huggingface package and should be used instead. To use it run `pip install -U :class:`~langchain-huggingface` and import as `from :class:`~langchain_huggingface import HuggingFaceEmbeddings``.\n",
      "  emb= HuggingFaceEmbeddings(model_name= 'sentence-transformers/all-MiniLM-L6-v2'\n",
      "/Users/karthiksarma/Desktop/med_bot/.venv/lib/python3.10/site-packages/tqdm/auto.py:21: TqdmWarning: IProgress not found. Please update jupyter and ipywidgets. See https://ipywidgets.readthedocs.io/en/stable/user_install.html\n",
      "  from .autonotebook import tqdm as notebook_tqdm\n"
     ]
    }
   ],
   "source": [
    "emb= download_hugging_face()\n"
   ]
  },
  {
   "cell_type": "code",
   "execution_count": 37,
   "id": "88f135a0-c4b4-4bf2-96f9-f34cb67e164c",
   "metadata": {},
   "outputs": [
    {
     "data": {
      "text/plain": [
       "HuggingFaceEmbeddings(client=SentenceTransformer(\n",
       "  (0): Transformer({'max_seq_length': 256, 'do_lower_case': False}) with Transformer model: BertModel \n",
       "  (1): Pooling({'word_embedding_dimension': 384, 'pooling_mode_cls_token': False, 'pooling_mode_mean_tokens': True, 'pooling_mode_max_tokens': False, 'pooling_mode_mean_sqrt_len_tokens': False, 'pooling_mode_weightedmean_tokens': False, 'pooling_mode_lasttoken': False, 'include_prompt': True})\n",
       "  (2): Normalize()\n",
       "), model_name='sentence-transformers/all-MiniLM-L6-v2', cache_folder=None, model_kwargs={}, encode_kwargs={}, multi_process=False, show_progress=False)"
      ]
     },
     "execution_count": 37,
     "metadata": {},
     "output_type": "execute_result"
    }
   ],
   "source": [
    "emb"
   ]
  },
  {
   "cell_type": "code",
   "execution_count": 38,
   "id": "5afd1efe-bad7-4378-b916-9bce045430a0",
   "metadata": {},
   "outputs": [
    {
     "name": "stdout",
     "output_type": "stream",
     "text": [
      "length 384\n"
     ]
    }
   ],
   "source": [
    "que= emb.embed_query(\"Hello World\")\n",
    "print('length', len(que))"
   ]
  },
  {
   "cell_type": "code",
   "execution_count": 39,
   "id": "2fc12ce1",
   "metadata": {},
   "outputs": [
    {
     "data": {
      "text/plain": [
       "True"
      ]
     },
     "execution_count": 39,
     "metadata": {},
     "output_type": "execute_result"
    }
   ],
   "source": [
    "from dotenv import load_dotenv\n",
    "load_dotenv()"
   ]
  },
  {
   "cell_type": "code",
   "execution_count": 59,
   "id": "4ffe963b",
   "metadata": {},
   "outputs": [],
   "source": [
    "PINECONE_API_KEY= os.environ.get('PINECONE_API_KEY')\n",
    "GROQ_API_KEY= os.environ.get('GROQ_API_KEY')\n",
    "\n"
   ]
  },
  {
   "cell_type": "code",
   "execution_count": 41,
   "id": "bbfbfeda",
   "metadata": {},
   "outputs": [
    {
     "data": {
      "text/plain": [
       "{\n",
       "    \"name\": \"testbot\",\n",
       "    \"metric\": \"cosine\",\n",
       "    \"host\": \"testbot-zqqqim1.svc.aped-4627-b74a.pinecone.io\",\n",
       "    \"spec\": {\n",
       "        \"serverless\": {\n",
       "            \"cloud\": \"aws\",\n",
       "            \"region\": \"us-east-1\"\n",
       "        }\n",
       "    },\n",
       "    \"status\": {\n",
       "        \"ready\": true,\n",
       "        \"state\": \"Ready\"\n",
       "    },\n",
       "    \"vector_type\": \"dense\",\n",
       "    \"dimension\": 384,\n",
       "    \"deletion_protection\": \"disabled\",\n",
       "    \"tags\": null\n",
       "}"
      ]
     },
     "execution_count": 41,
     "metadata": {},
     "output_type": "execute_result"
    }
   ],
   "source": [
    "from pinecone.grpc import PineconeGRPC as Pinecone\n",
    "from pinecone import ServerlessSpec\n",
    "import os\n",
    "pc = Pinecone(api_key='pcsk_6vhUGc_PP8vzP1KBW1kxBokMuVDHYpxD7AEKEzUCFY3YWdoCsQrBeGAjFqwRbj1b5RdsE2')\n",
    "\n",
    "index_name = \"testbot\"\n",
    "\n",
    "pc.create_index(\n",
    "        name=index_name,\n",
    "        dimension= 384,\n",
    "        metric='cosine',\n",
    "        spec=ServerlessSpec(\n",
    "            cloud=\"aws\",\n",
    "        region=\"us-east-1\"\n",
    "\n",
    "        )\n",
    "       \n",
    "    )"
   ]
  },
  {
   "cell_type": "code",
   "execution_count": 60,
   "id": "5a005777",
   "metadata": {},
   "outputs": [],
   "source": [
    "import os\n",
    "os.environ['PINECONE_API_KEY']= PINECONE_API_KEY\n"
   ]
  },
  {
   "cell_type": "code",
   "execution_count": 62,
   "id": "d948a69c",
   "metadata": {},
   "outputs": [],
   "source": [
    "from dotenv import load_dotenv\n",
    "import os\n",
    "\n",
    "load_dotenv()\n",
    "GROQ_API_KEY = os.getenv(\"GROQ_API_KEY\")\n",
    "\n",
    "# Now set it explicitly in env if needed\n",
    "os.environ[\"GROQ_API_KEY\"] = GROQ_API_KEY\n"
   ]
  },
  {
   "cell_type": "code",
   "execution_count": 46,
   "id": "3fc40fb3",
   "metadata": {},
   "outputs": [],
   "source": [
    "from langchain_pinecone import PineconeVectorStore\n",
    "docsearch= PineconeVectorStore.from_documents(\n",
    "    documents=chunks,\n",
    "    index_name= index_name,\n",
    "    embedding= emb\n",
    ")"
   ]
  },
  {
   "cell_type": "code",
   "execution_count": 47,
   "id": "14903f8f",
   "metadata": {},
   "outputs": [],
   "source": [
    "from langchain_pinecone import PineconeVectorStore\n",
    "docsearch= PineconeVectorStore.from_existing_index(\n",
    "    index_name= index_name,\n",
    "    embedding= emb\n",
    ")\n"
   ]
  },
  {
   "cell_type": "code",
   "execution_count": 48,
   "id": "101674a6",
   "metadata": {},
   "outputs": [
    {
     "data": {
      "text/plain": [
       "<langchain_pinecone.vectorstores.PineconeVectorStore at 0x118f4f730>"
      ]
     },
     "execution_count": 48,
     "metadata": {},
     "output_type": "execute_result"
    }
   ],
   "source": [
    "docsearch"
   ]
  },
  {
   "cell_type": "code",
   "execution_count": 49,
   "id": "75791118",
   "metadata": {},
   "outputs": [],
   "source": [
    "re= docsearch.as_retriever(search_type='similarity', search_kwargs= {'k':3})\n"
   ]
  },
  {
   "cell_type": "code",
   "execution_count": 50,
   "id": "5515da08",
   "metadata": {},
   "outputs": [],
   "source": [
    "ree= re.invoke(\"What is correlation\")"
   ]
  },
  {
   "cell_type": "code",
   "execution_count": 51,
   "id": "fb78b670",
   "metadata": {},
   "outputs": [
    {
     "data": {
      "text/plain": [
       "[Document(id='db81840d-b1be-4ffc-8d84-697a3441b93c', metadata={'creationdate': '2004-12-18T17:00:02-05:00', 'creator': 'PyPDF', 'moddate': '2004-12-18T16:15:31-06:00', 'page': 91.0, 'page_label': '92', 'producer': 'PDFlib+PDI 5.0.0 (SunOS)', 'source': 'Data/Medical_book.pdf', 'total_pages': 637.0}, page_content='thinking, confusion, and loss of muscular coordi-\\nnation.\\nAntibody —A specific protein produced by the\\nimmune system in response to a specific foreign\\nprotein or particle called an antigen.\\nAntigen—Any substance that stimulates the body to\\nproduce antibody.\\nAutoimmunity —A condition in which the body’s\\nimmune system produces antibodies in response to\\nits own tissues or blood components instead of for-\\neign particles or microorganisms.\\nCCR5—A chemokine receptor; defects in its struc-'),\n",
       " Document(id='d781b377-8531-4843-9f96-9e8d8b3819b3', metadata={'creationdate': '2004-12-18T17:00:02-05:00', 'creator': 'PyPDF', 'moddate': '2004-12-18T16:15:31-06:00', 'page': 406.0, 'page_label': '407', 'producer': 'PDFlib+PDI 5.0.0 (SunOS)', 'source': 'Data/Medical_book.pdf', 'total_pages': 637.0}, page_content='the flow of blood.\\nPlaque is made of fatty substances, cholesterol,\\nwaste products from the cells, calcium, and fibrin, a\\nstringy material that helps clot blood. The plaque forma-\\ntion process stimulates the cells of the artery wall to pro-\\nduce substances that accumulate in the inner layer. Fat\\nbuilds up within these cells and around them, and they\\nform connective tissue and calcium. The inner layer of\\nthe artery wall thickens, the artery’s diameter is reduced,'),\n",
       " Document(id='5ae038b6-4e9c-44b7-ad8d-fdf66d849843', metadata={'creationdate': '2004-12-18T17:00:02-05:00', 'creator': 'PyPDF', 'moddate': '2004-12-18T16:15:31-06:00', 'page': 333.0, 'page_label': '334', 'producer': 'PDFlib+PDI 5.0.0 (SunOS)', 'source': 'Data/Medical_book.pdf', 'total_pages': 637.0}, page_content='• Repression. The person pushes anxious thoughts or\\nideas out of conscious awareness.\\n• Displacement. Anxiety from one source is attached to a\\ndifferent object or event. Phobias are an example of the\\nmechanism of displacement in psychoanalytic theory.\\n• Rationalization. The person justifies the anxious feel-\\nings by saying that any normal person would feel anx-\\nious in their situation.\\n• Somatization. The anxiety emerges in the form of phys-\\nical complaints and illnesses, such as recurrent')]"
      ]
     },
     "execution_count": 51,
     "metadata": {},
     "output_type": "execute_result"
    }
   ],
   "source": [
    "ree"
   ]
  },
  {
   "cell_type": "code",
   "execution_count": 53,
   "id": "9a7936c5",
   "metadata": {},
   "outputs": [
    {
     "name": "stderr",
     "output_type": "stream",
     "text": [
      "huggingface/tokenizers: The current process just got forked, after parallelism has already been used. Disabling parallelism to avoid deadlocks...\n",
      "To disable this warning, you can either:\n",
      "\t- Avoid using `tokenizers` before the fork if possible\n",
      "\t- Explicitly set the environment variable TOKENIZERS_PARALLELISM=(true | false)\n"
     ]
    },
    {
     "name": "stdout",
     "output_type": "stream",
     "text": [
      "Collecting langchain_groq\n",
      "  Using cached langchain_groq-0.3.2-py3-none-any.whl.metadata (2.6 kB)\n",
      "Requirement already satisfied: langchain-core<1.0.0,>=0.3.49 in /Users/karthiksarma/Desktop/med_bot/.venv/lib/python3.10/site-packages (from langchain_groq) (0.3.65)\n",
      "Collecting groq<1,>=0.4.1 (from langchain_groq)\n",
      "  Downloading groq-0.28.0-py3-none-any.whl.metadata (15 kB)\n",
      "Requirement already satisfied: anyio<5,>=3.5.0 in /Users/karthiksarma/Desktop/med_bot/.venv/lib/python3.10/site-packages (from groq<1,>=0.4.1->langchain_groq) (4.9.0)\n",
      "Requirement already satisfied: distro<2,>=1.7.0 in /Users/karthiksarma/Desktop/med_bot/.venv/lib/python3.10/site-packages (from groq<1,>=0.4.1->langchain_groq) (1.9.0)\n",
      "Requirement already satisfied: httpx<1,>=0.23.0 in /Users/karthiksarma/Desktop/med_bot/.venv/lib/python3.10/site-packages (from groq<1,>=0.4.1->langchain_groq) (0.28.1)\n",
      "Requirement already satisfied: pydantic<3,>=1.9.0 in /Users/karthiksarma/Desktop/med_bot/.venv/lib/python3.10/site-packages (from groq<1,>=0.4.1->langchain_groq) (2.11.7)\n",
      "Requirement already satisfied: sniffio in /Users/karthiksarma/Desktop/med_bot/.venv/lib/python3.10/site-packages (from groq<1,>=0.4.1->langchain_groq) (1.3.1)\n",
      "Requirement already satisfied: typing-extensions<5,>=4.10 in /Users/karthiksarma/Desktop/med_bot/.venv/lib/python3.10/site-packages (from groq<1,>=0.4.1->langchain_groq) (4.14.0)\n",
      "Requirement already satisfied: exceptiongroup>=1.0.2 in /Users/karthiksarma/Desktop/med_bot/.venv/lib/python3.10/site-packages (from anyio<5,>=3.5.0->groq<1,>=0.4.1->langchain_groq) (1.3.0)\n",
      "Requirement already satisfied: idna>=2.8 in /Users/karthiksarma/Desktop/med_bot/.venv/lib/python3.10/site-packages (from anyio<5,>=3.5.0->groq<1,>=0.4.1->langchain_groq) (3.10)\n",
      "Requirement already satisfied: certifi in /Users/karthiksarma/Desktop/med_bot/.venv/lib/python3.10/site-packages (from httpx<1,>=0.23.0->groq<1,>=0.4.1->langchain_groq) (2025.6.15)\n",
      "Requirement already satisfied: httpcore==1.* in /Users/karthiksarma/Desktop/med_bot/.venv/lib/python3.10/site-packages (from httpx<1,>=0.23.0->groq<1,>=0.4.1->langchain_groq) (1.0.9)\n",
      "Requirement already satisfied: h11>=0.16 in /Users/karthiksarma/Desktop/med_bot/.venv/lib/python3.10/site-packages (from httpcore==1.*->httpx<1,>=0.23.0->groq<1,>=0.4.1->langchain_groq) (0.16.0)\n",
      "Requirement already satisfied: langsmith<0.4,>=0.3.45 in /Users/karthiksarma/Desktop/med_bot/.venv/lib/python3.10/site-packages (from langchain-core<1.0.0,>=0.3.49->langchain_groq) (0.3.45)\n",
      "Requirement already satisfied: tenacity!=8.4.0,<10.0.0,>=8.1.0 in /Users/karthiksarma/Desktop/med_bot/.venv/lib/python3.10/site-packages (from langchain-core<1.0.0,>=0.3.49->langchain_groq) (9.1.2)\n",
      "Requirement already satisfied: jsonpatch<2.0,>=1.33 in /Users/karthiksarma/Desktop/med_bot/.venv/lib/python3.10/site-packages (from langchain-core<1.0.0,>=0.3.49->langchain_groq) (1.33)\n",
      "Requirement already satisfied: PyYAML>=5.3 in /Users/karthiksarma/Desktop/med_bot/.venv/lib/python3.10/site-packages (from langchain-core<1.0.0,>=0.3.49->langchain_groq) (6.0.2)\n",
      "Requirement already satisfied: packaging<25,>=23.2 in /Users/karthiksarma/Desktop/med_bot/.venv/lib/python3.10/site-packages (from langchain-core<1.0.0,>=0.3.49->langchain_groq) (24.2)\n",
      "Requirement already satisfied: jsonpointer>=1.9 in /Users/karthiksarma/Desktop/med_bot/.venv/lib/python3.10/site-packages (from jsonpatch<2.0,>=1.33->langchain-core<1.0.0,>=0.3.49->langchain_groq) (3.0.0)\n",
      "Requirement already satisfied: orjson<4.0.0,>=3.9.14 in /Users/karthiksarma/Desktop/med_bot/.venv/lib/python3.10/site-packages (from langsmith<0.4,>=0.3.45->langchain-core<1.0.0,>=0.3.49->langchain_groq) (3.10.18)\n",
      "Requirement already satisfied: requests<3,>=2 in /Users/karthiksarma/Desktop/med_bot/.venv/lib/python3.10/site-packages (from langsmith<0.4,>=0.3.45->langchain-core<1.0.0,>=0.3.49->langchain_groq) (2.32.4)\n",
      "Requirement already satisfied: requests-toolbelt<2.0.0,>=1.0.0 in /Users/karthiksarma/Desktop/med_bot/.venv/lib/python3.10/site-packages (from langsmith<0.4,>=0.3.45->langchain-core<1.0.0,>=0.3.49->langchain_groq) (1.0.0)\n",
      "Requirement already satisfied: zstandard<0.24.0,>=0.23.0 in /Users/karthiksarma/Desktop/med_bot/.venv/lib/python3.10/site-packages (from langsmith<0.4,>=0.3.45->langchain-core<1.0.0,>=0.3.49->langchain_groq) (0.23.0)\n",
      "Requirement already satisfied: annotated-types>=0.6.0 in /Users/karthiksarma/Desktop/med_bot/.venv/lib/python3.10/site-packages (from pydantic<3,>=1.9.0->groq<1,>=0.4.1->langchain_groq) (0.7.0)\n",
      "Requirement already satisfied: pydantic-core==2.33.2 in /Users/karthiksarma/Desktop/med_bot/.venv/lib/python3.10/site-packages (from pydantic<3,>=1.9.0->groq<1,>=0.4.1->langchain_groq) (2.33.2)\n",
      "Requirement already satisfied: typing-inspection>=0.4.0 in /Users/karthiksarma/Desktop/med_bot/.venv/lib/python3.10/site-packages (from pydantic<3,>=1.9.0->groq<1,>=0.4.1->langchain_groq) (0.4.1)\n",
      "Requirement already satisfied: charset_normalizer<4,>=2 in /Users/karthiksarma/Desktop/med_bot/.venv/lib/python3.10/site-packages (from requests<3,>=2->langsmith<0.4,>=0.3.45->langchain-core<1.0.0,>=0.3.49->langchain_groq) (3.4.2)\n",
      "Requirement already satisfied: urllib3<3,>=1.21.1 in /Users/karthiksarma/Desktop/med_bot/.venv/lib/python3.10/site-packages (from requests<3,>=2->langsmith<0.4,>=0.3.45->langchain-core<1.0.0,>=0.3.49->langchain_groq) (2.4.0)\n",
      "Using cached langchain_groq-0.3.2-py3-none-any.whl (15 kB)\n",
      "Downloading groq-0.28.0-py3-none-any.whl (130 kB)\n",
      "Installing collected packages: groq, langchain_groq\n",
      "\u001b[2K   \u001b[90m━━━━━━━━━━━━━━━━━━━━━━━━━━━━━━━━━━━━━━━━\u001b[0m \u001b[32m2/2\u001b[0m [langchain_groq]\n",
      "\u001b[1A\u001b[2KSuccessfully installed groq-0.28.0 langchain_groq-0.3.2\n",
      "Note: you may need to restart the kernel to use updated packages.\n"
     ]
    }
   ],
   "source": [
    "pip install langchain_groq"
   ]
  },
  {
   "cell_type": "code",
   "execution_count": 63,
   "id": "247a53bd",
   "metadata": {},
   "outputs": [],
   "source": [
    "from langchain.chains import RetrievalQA\n",
    "from langchain.prompts import PromptTemplate\n",
    "from langchain.chains.question_answering import load_qa_chain"
   ]
  },
  {
   "cell_type": "code",
   "execution_count": 65,
   "id": "da7adebc",
   "metadata": {},
   "outputs": [
    {
     "name": "stdout",
     "output_type": "stream",
     "text": [
      "Acne is a common skin disease characterized by pimples on the face, chest, and back, which occurs when the pores of the skin become clogged with dead skin cells and bacteria.\n"
     ]
    }
   ],
   "source": [
    "from langchain_groq import ChatGroq\n",
    "llm = ChatGroq(api_key=GROQ_API_KEY, model_name= 'llama3-70b-8192')\n",
    "template = \"\"\"\n",
    "You are an assistant for question-answering tasks. Use the following context to answer the question.\n",
    "If you don’t know the answer, just say you don’t know. Keep the answer short (max 3 sentences).\\n\\n\n",
    "Context: {context}\n",
    "Question: {question}\n",
    "Answer:\"\"\"\n",
    "\n",
    "prompt = PromptTemplate(\n",
    "    input_variables=[\"context\", \"question\"],\n",
    "    template=template,\n",
    ")\n",
    "\n",
    "# Create chain\n",
    "question_answer_chain = load_qa_chain(llm=llm, chain_type=\"stuff\", prompt=prompt)\n",
    "rag_chain = RetrievalQA(combine_documents_chain=question_answer_chain, retriever=re)\n",
    "\n",
    "# Ask a question\n",
    "response = rag_chain.invoke({\"query\": \"What is Acne?\"})\n",
    "print(response[\"result\"])\n",
    "\n"
   ]
  },
  {
   "cell_type": "code",
   "execution_count": null,
   "id": "863cc30e",
   "metadata": {},
   "outputs": [],
   "source": []
  }
 ],
 "metadata": {
  "kernelspec": {
   "display_name": "Python 3 (ipykernel)",
   "language": "python",
   "name": "python3"
  },
  "language_info": {
   "codemirror_mode": {
    "name": "ipython",
    "version": 3
   },
   "file_extension": ".py",
   "mimetype": "text/x-python",
   "name": "python",
   "nbconvert_exporter": "python",
   "pygments_lexer": "ipython3",
   "version": "3.10.16"
  }
 },
 "nbformat": 4,
 "nbformat_minor": 5
}
